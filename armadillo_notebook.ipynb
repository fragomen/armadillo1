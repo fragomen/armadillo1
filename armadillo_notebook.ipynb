{
 "cells": [
  {
   "cell_type": "markdown",
   "metadata": {},
   "source": [
    "#  Armadillo Data Complete Analysis\n",
    "In this notebook we will find all the information from loading the data and analysing it. \n",
    "Note that for running it in your computer you will need to use the command \"read.table\" after you set your working directory. \n"
   ]
  },
  {
   "cell_type": "code",
   "execution_count": null,
   "metadata": {},
   "outputs": [],
   "source": [
    "library(tidyverse)\n",
    "\n",
    "arm<-tbl_df(read.table(\"armadillo2.txt\",header=T)) %>%\n",
    "  mutate(farm=as.factor(farm),sex=as.factor(sex))\n",
    "arm"
   ]
  },
  {
   "cell_type": "markdown",
   "metadata": {},
   "source": [
    "In the next cell we will have a similar set of commands to calculate farm, sex and snp groups means:"
   ]
  },
  {
   "cell_type": "code",
   "execution_count": 7,
   "metadata": {},
   "outputs": [
    {
     "data": {
      "text/html": [
       "<table>\n",
       "<thead><tr><th scope=col>farm</th><th scope=col>X_farm</th></tr></thead>\n",
       "<tbody>\n",
       "\t<tr><td>1       </td><td>117.2878</td></tr>\n",
       "\t<tr><td>2       </td><td>108.3620</td></tr>\n",
       "\t<tr><td>3       </td><td>111.7864</td></tr>\n",
       "\t<tr><td>4       </td><td>113.1971</td></tr>\n",
       "</tbody>\n",
       "</table>\n"
      ],
      "text/latex": [
       "\\begin{tabular}{r|ll}\n",
       " farm & X\\_farm\\\\\n",
       "\\hline\n",
       "\t 1        & 117.2878\\\\\n",
       "\t 2        & 108.3620\\\\\n",
       "\t 3        & 111.7864\\\\\n",
       "\t 4        & 113.1971\\\\\n",
       "\\end{tabular}\n"
      ],
      "text/markdown": [
       "\n",
       "| farm | X_farm |\n",
       "|---|---|\n",
       "| 1        | 117.2878 |\n",
       "| 2        | 108.3620 |\n",
       "| 3        | 111.7864 |\n",
       "| 4        | 113.1971 |\n",
       "\n"
      ],
      "text/plain": [
       "  farm X_farm  \n",
       "1 1    117.2878\n",
       "2 2    108.3620\n",
       "3 3    111.7864\n",
       "4 4    113.1971"
      ]
     },
     "metadata": {},
     "output_type": "display_data"
    },
    {
     "data": {
      "text/html": [
       "<table>\n",
       "<thead><tr><th scope=col>sex</th><th scope=col>X_sex</th></tr></thead>\n",
       "<tbody>\n",
       "\t<tr><td>1       </td><td>110.1092</td></tr>\n",
       "\t<tr><td>2       </td><td>115.5799</td></tr>\n",
       "</tbody>\n",
       "</table>\n"
      ],
      "text/latex": [
       "\\begin{tabular}{r|ll}\n",
       " sex & X\\_sex\\\\\n",
       "\\hline\n",
       "\t 1        & 110.1092\\\\\n",
       "\t 2        & 115.5799\\\\\n",
       "\\end{tabular}\n"
      ],
      "text/markdown": [
       "\n",
       "| sex | X_sex |\n",
       "|---|---|\n",
       "| 1        | 110.1092 |\n",
       "| 2        | 115.5799 |\n",
       "\n"
      ],
      "text/plain": [
       "  sex X_sex   \n",
       "1 1   110.1092\n",
       "2 2   115.5799"
      ]
     },
     "metadata": {},
     "output_type": "display_data"
    },
    {
     "data": {
      "text/html": [
       "<table>\n",
       "<thead><tr><th scope=col>snp1</th><th scope=col>SNP1_mu</th></tr></thead>\n",
       "<tbody>\n",
       "\t<tr><td>0       </td><td>114.6230</td></tr>\n",
       "\t<tr><td>1       </td><td>112.0070</td></tr>\n",
       "\t<tr><td>2       </td><td>112.6415</td></tr>\n",
       "</tbody>\n",
       "</table>\n"
      ],
      "text/latex": [
       "\\begin{tabular}{r|ll}\n",
       " snp1 & SNP1\\_mu\\\\\n",
       "\\hline\n",
       "\t 0        & 114.6230\\\\\n",
       "\t 1        & 112.0070\\\\\n",
       "\t 2        & 112.6415\\\\\n",
       "\\end{tabular}\n"
      ],
      "text/markdown": [
       "\n",
       "| snp1 | SNP1_mu |\n",
       "|---|---|\n",
       "| 0        | 114.6230 |\n",
       "| 1        | 112.0070 |\n",
       "| 2        | 112.6415 |\n",
       "\n"
      ],
      "text/plain": [
       "  snp1 SNP1_mu \n",
       "1 0    114.6230\n",
       "2 1    112.0070\n",
       "3 2    112.6415"
      ]
     },
     "metadata": {},
     "output_type": "display_data"
    },
    {
     "data": {
      "text/html": [
       "<table>\n",
       "<thead><tr><th scope=col>snp2</th><th scope=col>SNP2_mu</th></tr></thead>\n",
       "<tbody>\n",
       "\t<tr><td>0       </td><td>113.7025</td></tr>\n",
       "\t<tr><td>1       </td><td>113.4119</td></tr>\n",
       "\t<tr><td>2       </td><td>112.1385</td></tr>\n",
       "</tbody>\n",
       "</table>\n"
      ],
      "text/latex": [
       "\\begin{tabular}{r|ll}\n",
       " snp2 & SNP2\\_mu\\\\\n",
       "\\hline\n",
       "\t 0        & 113.7025\\\\\n",
       "\t 1        & 113.4119\\\\\n",
       "\t 2        & 112.1385\\\\\n",
       "\\end{tabular}\n"
      ],
      "text/markdown": [
       "\n",
       "| snp2 | SNP2_mu |\n",
       "|---|---|\n",
       "| 0        | 113.7025 |\n",
       "| 1        | 113.4119 |\n",
       "| 2        | 112.1385 |\n",
       "\n"
      ],
      "text/plain": [
       "  snp2 SNP2_mu \n",
       "1 0    113.7025\n",
       "2 1    113.4119\n",
       "3 2    112.1385"
      ]
     },
     "metadata": {},
     "output_type": "display_data"
    },
    {
     "data": {
      "text/html": [
       "<table>\n",
       "<thead><tr><th scope=col>snp3</th><th scope=col>SNP3_mu</th></tr></thead>\n",
       "<tbody>\n",
       "\t<tr><td>0       </td><td>111.6357</td></tr>\n",
       "\t<tr><td>1       </td><td>113.2715</td></tr>\n",
       "\t<tr><td>2       </td><td>114.3285</td></tr>\n",
       "</tbody>\n",
       "</table>\n"
      ],
      "text/latex": [
       "\\begin{tabular}{r|ll}\n",
       " snp3 & SNP3\\_mu\\\\\n",
       "\\hline\n",
       "\t 0        & 111.6357\\\\\n",
       "\t 1        & 113.2715\\\\\n",
       "\t 2        & 114.3285\\\\\n",
       "\\end{tabular}\n"
      ],
      "text/markdown": [
       "\n",
       "| snp3 | SNP3_mu |\n",
       "|---|---|\n",
       "| 0        | 111.6357 |\n",
       "| 1        | 113.2715 |\n",
       "| 2        | 114.3285 |\n",
       "\n"
      ],
      "text/plain": [
       "  snp3 SNP3_mu \n",
       "1 0    111.6357\n",
       "2 1    113.2715\n",
       "3 2    114.3285"
      ]
     },
     "metadata": {},
     "output_type": "display_data"
    },
    {
     "data": {
      "text/html": [
       "<table>\n",
       "<thead><tr><th scope=col>snp4</th><th scope=col>SNP4_mu</th></tr></thead>\n",
       "<tbody>\n",
       "\t<tr><td>0       </td><td>111.0065</td></tr>\n",
       "\t<tr><td>1       </td><td>114.2121</td></tr>\n",
       "\t<tr><td>2       </td><td>114.3973</td></tr>\n",
       "</tbody>\n",
       "</table>\n"
      ],
      "text/latex": [
       "\\begin{tabular}{r|ll}\n",
       " snp4 & SNP4\\_mu\\\\\n",
       "\\hline\n",
       "\t 0        & 111.0065\\\\\n",
       "\t 1        & 114.2121\\\\\n",
       "\t 2        & 114.3973\\\\\n",
       "\\end{tabular}\n"
      ],
      "text/markdown": [
       "\n",
       "| snp4 | SNP4_mu |\n",
       "|---|---|\n",
       "| 0        | 111.0065 |\n",
       "| 1        | 114.2121 |\n",
       "| 2        | 114.3973 |\n",
       "\n"
      ],
      "text/plain": [
       "  snp4 SNP4_mu \n",
       "1 0    111.0065\n",
       "2 1    114.2121\n",
       "3 2    114.3973"
      ]
     },
     "metadata": {},
     "output_type": "display_data"
    }
   ],
   "source": [
    "#calculating farm average:\n",
    "farm_mean <- arm %>% group_by(farm) %>% summarize(X_farm=mean(weight))\n",
    "farm_mean #when we execute this line it is the same thing as typing its name in the console\n",
    "\n",
    "#now sex average:\n",
    "sex_mean <- arm %>% group_by(sex) %>% summarize(X_sex=mean(weight))\n",
    "sex_mean\n",
    "\n",
    "#and for snps #I am not saving SNPs means because this type of analysis is not correct :)\n",
    "arm %>% group_by(snp1) %>% summarize(SNP1_mu=mean(weight))\n",
    "arm %>% group_by(snp2) %>% summarize(SNP2_mu=mean(weight))\n",
    "arm %>% group_by(snp3) %>% summarize(SNP3_mu=mean(weight))\n",
    "\n",
    "#for the last SNP I will show how we can separate pipes in different lines\n",
    "arm %>%  #you can include comments after each pipe\n",
    "  group_by(snp4) %>%  #note that the pipe has to come at the end of the line\n",
    "  summarize(SNP4_mu=mean(weight))\n",
    "\n"
   ]
  },
  {
   "cell_type": "markdown",
   "metadata": {},
   "source": [
    "The regression we will try as we did before. We will start with a very simple model, and then add complexity. We need to be 100% sure that we are treating the sex and farm effect as factors, and the snps as numeric, otherwise we will have problems in our regressions."
   ]
  },
  {
   "cell_type": "code",
   "execution_count": 8,
   "metadata": {},
   "outputs": [
    {
     "data": {
      "text/plain": [
       "\n",
       "Call:\n",
       "lm(formula = weight ~ farm, data = arm)\n",
       "\n",
       "Residuals:\n",
       "     Min       1Q   Median       3Q      Max \n",
       "-13.7170  -2.9402  -0.1569   3.0608  15.3236 \n",
       "\n",
       "Coefficients:\n",
       "            Estimate Std. Error t value Pr(>|t|)    \n",
       "(Intercept) 117.2878     0.6385 183.705  < 2e-16 ***\n",
       "farm2        -8.9257     1.0049  -8.882 4.20e-16 ***\n",
       "farm3        -5.5013     0.9982  -5.511 1.11e-07 ***\n",
       "farm4        -4.0907     0.9918  -4.125 5.48e-05 ***\n",
       "---\n",
       "Signif. codes:  0 '***' 0.001 '**' 0.01 '*' 0.05 '.' 0.1 ' ' 1\n",
       "\n",
       "Residual standard error: 5.147 on 196 degrees of freedom\n",
       "Multiple R-squared:  0.2981,\tAdjusted R-squared:  0.2873 \n",
       "F-statistic: 27.74 on 3 and 196 DF,  p-value: 5.349e-15\n"
      ]
     },
     "metadata": {},
     "output_type": "display_data"
    }
   ],
   "source": [
    "\n",
    "model1<-lm(weight~farm,arm) #make sure you have farm as a factor\n",
    "summary(model1) #more information about out regression\n",
    "#are the estimates similar to the means we've calculated earlier?\n"
   ]
  },
  {
   "cell_type": "code",
   "execution_count": 9,
   "metadata": {},
   "outputs": [
    {
     "data": {
      "text/plain": [
       "\n",
       "Call:\n",
       "lm(formula = weight ~ farm + sex, data = arm)\n",
       "\n",
       "Residuals:\n",
       "     Min       1Q   Median       3Q      Max \n",
       "-14.2324  -2.8100   0.0526   2.6811  13.1769 \n",
       "\n",
       "Coefficients:\n",
       "            Estimate Std. Error t value Pr(>|t|)    \n",
       "(Intercept) 114.2493     0.6422 177.908  < 2e-16 ***\n",
       "farm2        -9.0044     0.8523 -10.564  < 2e-16 ***\n",
       "farm3        -5.1450     0.8476  -6.070 6.55e-09 ***\n",
       "farm4        -4.3916     0.8419  -5.217 4.64e-07 ***\n",
       "sex2          5.4861     0.6233   8.802 7.23e-16 ***\n",
       "---\n",
       "Signif. codes:  0 '***' 0.001 '**' 0.01 '*' 0.05 '.' 0.1 ' ' 1\n",
       "\n",
       "Residual standard error: 4.366 on 195 degrees of freedom\n",
       "Multiple R-squared:  0.4977,\tAdjusted R-squared:  0.4873 \n",
       "F-statistic: 48.29 on 4 and 195 DF,  p-value: < 2.2e-16\n"
      ]
     },
     "metadata": {},
     "output_type": "display_data"
    }
   ],
   "source": [
    "#let's define a more complex model\n",
    "#Weight = farm + sex \n",
    "\n",
    "model2<-lm(weight~farm+sex,arm) #make sure you have farm and sex as a factor\n",
    "summary(model2) #more information about out regression\n",
    "#now we will see that the intercept is farm=1 AND sex=1. If we have farm=1 and sex=2, we would add 5.48\n",
    "#if we have farm=2 and sex=1 we would add -9.00; if we have farm=2 and sex=2 we would add -9.00 + 5.48"
   ]
  },
  {
   "cell_type": "code",
   "execution_count": 10,
   "metadata": {},
   "outputs": [
    {
     "data": {
      "text/plain": [
       "\n",
       "Call:\n",
       "lm(formula = weight ~ farm + sex + snp1, data = arm)\n",
       "\n",
       "Residuals:\n",
       "     Min       1Q   Median       3Q      Max \n",
       "-14.2284  -2.5990  -0.2199   2.6864  13.3161 \n",
       "\n",
       "Coefficients:\n",
       "            Estimate Std. Error t value Pr(>|t|)    \n",
       "(Intercept) 115.0264     0.7374 155.983  < 2e-16 ***\n",
       "farm2        -8.9496     0.8455 -10.585  < 2e-16 ***\n",
       "farm3        -5.1295     0.8404  -6.104 5.54e-09 ***\n",
       "farm4        -4.4721     0.8356  -5.352 2.44e-07 ***\n",
       "sex2          5.4356     0.6185   8.789 8.05e-16 ***\n",
       "snp1         -0.7854     0.3760  -2.089    0.038 *  \n",
       "---\n",
       "Signif. codes:  0 '***' 0.001 '**' 0.01 '*' 0.05 '.' 0.1 ' ' 1\n",
       "\n",
       "Residual standard error: 4.329 on 194 degrees of freedom\n",
       "Multiple R-squared:  0.5087,\tAdjusted R-squared:  0.496 \n",
       "F-statistic: 40.17 on 5 and 194 DF,  p-value: < 2.2e-16\n"
      ]
     },
     "metadata": {},
     "output_type": "display_data"
    }
   ],
   "source": [
    "#one more effect :) #Weight = farm + sex + snp1\n",
    "model3<-lm(weight~farm+sex+snp1,arm) #make sure you have farm and sex as a factor, but snp as numeric (dbl)\n",
    "summary(model3) #more information about out regression\n",
    "#we have a single value for snp1. The estimate of the snp effect will be multiplied by the \"gene content\"\n",
    "#ex: SNP1=0: we add nothing; SNP1=1 we add 1*(-0.78), and SNP1=2 we add 2*(-0.78)"
   ]
  },
  {
   "cell_type": "code",
   "execution_count": 12,
   "metadata": {},
   "outputs": [
    {
     "data": {
      "text/plain": [
       "\n",
       "Call:\n",
       "lm(formula = weight ~ farm + sex + snp1 + snp2 + snp3 + snp4, \n",
       "    data = arm)\n",
       "\n",
       "Residuals:\n",
       "     Min       1Q   Median       3Q      Max \n",
       "-11.4874  -2.2328  -0.0574   2.3127  11.2651 \n",
       "\n",
       "Coefficients:\n",
       "            Estimate Std. Error t value Pr(>|t|)    \n",
       "(Intercept) 113.9987     0.9354 121.868  < 2e-16 ***\n",
       "farm2        -9.4982     0.7594 -12.508  < 2e-16 ***\n",
       "farm3        -5.4226     0.7401  -7.327 6.45e-12 ***\n",
       "farm4        -4.5535     0.7346  -6.199 3.43e-09 ***\n",
       "sex2          5.4322     0.5449   9.969  < 2e-16 ***\n",
       "snp1         -0.8924     0.3322  -2.687  0.00785 ** \n",
       "snp2         -1.4643     0.3625  -4.040 7.75e-05 ***\n",
       "snp3          0.9372     0.3431   2.732  0.00689 ** \n",
       "snp4          1.7259     0.3142   5.492 1.25e-07 ***\n",
       "---\n",
       "Signif. codes:  0 '***' 0.001 '**' 0.01 '*' 0.05 '.' 0.1 ' ' 1\n",
       "\n",
       "Residual standard error: 3.805 on 191 degrees of freedom\n",
       "Multiple R-squared:  0.6263,\tAdjusted R-squared:  0.6106 \n",
       "F-statistic: 40.01 on 8 and 191 DF,  p-value: < 2.2e-16\n"
      ]
     },
     "metadata": {},
     "output_type": "display_data"
    }
   ],
   "source": [
    "\n",
    "#now let's include everything in the model :) yay!\n",
    "#one more effect :) #Weight = farm + sex + snp1\n",
    "model4<-lm(weight~farm+sex+snp1+snp2+snp3+snp4,arm) #make sure you have farm and sex as a factor, but snp as numeric (dbl)\n",
    "summary(model4) #more information about out regression\n",
    "#the numbers I used over here are from armadillo 1, \n",
    "#the means and effects (specially for farms) are different in the second data. \n",
    " "
   ]
  },
  {
   "cell_type": "markdown",
   "metadata": {},
   "source": [
    "Let's say we have an animal with farm=1,sex=1, and all SNPs=0, we will predict its weight as:\n",
    "weight=Intercept, which is 113.99\n",
    "A second animal  farm=1,sex=2, and snp1=1,snp2=2,snp3=0 and snp4=1, we have it's weight predicted as:\n",
    "weight=Intercept+sex2+snp1*1+snp2*2+snp3*0+snp4*1; which will be\n",
    "weight=114+5.4+(-0.89)*1+(-1.46)*2+(0.93)*0+(1.72)*1\n",
    "Basically, we plug the numbers from the table above. Now, let's do it for 200 animals.\n",
    "There is a problem: I don't want to calculate it 200 times. Do you?\n",
    "Good news: we can tell the computer to do it for us:\n",
    "The command name is **predict**, and we will use it in our **model4**.\n"
   ]
  },
  {
   "cell_type": "code",
   "execution_count": 16,
   "metadata": {},
   "outputs": [],
   "source": [
    "pred1<-predict(model4)\n",
    "#It will calculate the predicted weight for all the 200 animals in our population.\n",
    "#And we can include it in our data with:\n",
    "arm_new<- arm %>% mutate(pred=pred1) #it will use mutate to create a new column containing our predicted weights\n"
   ]
  },
  {
   "cell_type": "markdown",
   "metadata": {},
   "source": [
    "The quality of our prediction will be given by the correlation between the predicted and observed weight.\n",
    "The closer the value is to 1, the higher our **accuracy** will be. \n",
    "                      "
   ]
  },
  {
   "cell_type": "code",
   "execution_count": 17,
   "metadata": {},
   "outputs": [
    {
     "data": {
      "text/html": [
       "<table>\n",
       "<thead><tr><th scope=col>correlation</th></tr></thead>\n",
       "<tbody>\n",
       "\t<tr><td>0.7913903</td></tr>\n",
       "</tbody>\n",
       "</table>\n"
      ],
      "text/latex": [
       "\\begin{tabular}{r|l}\n",
       " correlation\\\\\n",
       "\\hline\n",
       "\t 0.7913903\\\\\n",
       "\\end{tabular}\n"
      ],
      "text/markdown": [
       "\n",
       "| correlation |\n",
       "|---|\n",
       "| 0.7913903 |\n",
       "\n"
      ],
      "text/plain": [
       "  correlation\n",
       "1 0.7913903  "
      ]
     },
     "metadata": {},
     "output_type": "display_data"
    }
   ],
   "source": [
    "arm_new %>% summarise(correlation=cor(weight,pred))"
   ]
  },
  {
   "cell_type": "markdown",
   "metadata": {},
   "source": [
    "Why do I want to predict the weight, if I already have the animal's phenotype?\n",
    "The reason we are doing this regression is to learn the effects of our components (sex, farm, and SNPs) to predict phenotypes of animal we don't have the weight. As our baby armadillo data."
   ]
  },
  {
   "cell_type": "code",
   "execution_count": 21,
   "metadata": {},
   "outputs": [],
   "source": [
    "\n",
    "arm_baby<-tbl_df(read.table(\"armadillo_young.txt\",header=T)) %>%\n",
    "  mutate(farm=as.factor(farm),sex=as.factor(sex)) #here we are making sure our new data is using farma dn sex as factors\n",
    "pred2<-predict(model4,newdata = arm_baby) #with the newdata argument we can predict weights of out of sample data\n",
    "baby_arm_new<- arm_baby %>% mutate(pred=pred2) #here we are joining our predicted data to the baby armadillo data\n"
   ]
  },
  {
   "cell_type": "markdown",
   "metadata": {},
   "source": [
    "Let's say the baby armadillo's are now adults, and we want to know if we did a good job or not when we predicted their weight back when they were babies. We can calculate the correlation between the observed weight and the predicted weight. Note that we can't know this correlation until we have the data collected. But we can have the prediction as soon as we know the coefficients."
   ]
  },
  {
   "cell_type": "code",
   "execution_count": 22,
   "metadata": {},
   "outputs": [
    {
     "data": {
      "text/html": [
       "<table>\n",
       "<thead><tr><th scope=col>correlation</th></tr></thead>\n",
       "<tbody>\n",
       "\t<tr><td>0.7099818</td></tr>\n",
       "</tbody>\n",
       "</table>\n"
      ],
      "text/latex": [
       "\\begin{tabular}{r|l}\n",
       " correlation\\\\\n",
       "\\hline\n",
       "\t 0.7099818\\\\\n",
       "\\end{tabular}\n"
      ],
      "text/markdown": [
       "\n",
       "| correlation |\n",
       "|---|\n",
       "| 0.7099818 |\n",
       "\n"
      ],
      "text/plain": [
       "  correlation\n",
       "1 0.7099818  "
      ]
     },
     "metadata": {},
     "output_type": "display_data"
    }
   ],
   "source": [
    "baby_arm_new %>% summarise(correlation=cor(weight,pred))"
   ]
  },
  {
   "cell_type": "code",
   "execution_count": null,
   "metadata": {},
   "outputs": [],
   "source": []
  }
 ],
 "metadata": {
  "kernelspec": {
   "display_name": "R",
   "language": "R",
   "name": "ir"
  },
  "language_info": {
   "codemirror_mode": "r",
   "file_extension": ".r",
   "mimetype": "text/x-r-source",
   "name": "R",
   "pygments_lexer": "r",
   "version": "3.5.2"
  }
 },
 "nbformat": 4,
 "nbformat_minor": 2
}
